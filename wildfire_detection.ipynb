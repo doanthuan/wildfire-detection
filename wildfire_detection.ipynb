{
  "nbformat": 4,
  "nbformat_minor": 0,
  "metadata": {
    "colab": {
      "name": "wildfire-detection.ipynb",
      "provenance": [],
      "machine_shape": "hm",
      "authorship_tag": "ABX9TyMNsjaIqZyWw0MPl7qvVcDg",
      "include_colab_link": true
    },
    "kernelspec": {
      "name": "python3",
      "display_name": "Python 3"
    },
    "language_info": {
      "name": "python"
    },
    "accelerator": "GPU",
    "gpuClass": "standard"
  },
  "cells": [
    {
      "cell_type": "markdown",
      "metadata": {
        "id": "view-in-github",
        "colab_type": "text"
      },
      "source": [
        "<a href=\"https://colab.research.google.com/github/doanthuan/wildfire-detection/blob/main/wildfire_detection.ipynb\" target=\"_parent\"><img src=\"https://colab.research.google.com/assets/colab-badge.svg\" alt=\"Open In Colab\"/></a>"
      ]
    },
    {
      "cell_type": "markdown",
      "source": [
        "### Download Source Code"
      ],
      "metadata": {
        "id": "R15TXYfEE5Ej"
      }
    },
    {
      "cell_type": "code",
      "execution_count": null,
      "metadata": {
        "colab": {
          "base_uri": "https://localhost:8080/"
        },
        "id": "w-dHbJPjDb1c",
        "outputId": "1b2614cf-03c1-4319-82b8-e66b9786220f"
      },
      "outputs": [
        {
          "output_type": "stream",
          "name": "stdout",
          "text": [
            "Cloning into 'fire-detection'...\n",
            "remote: Enumerating objects: 261, done.\u001b[K\n",
            "remote: Counting objects: 100% (65/65), done.\u001b[K\n",
            "remote: Compressing objects: 100% (65/65), done.\u001b[K\n",
            "remote: Total 261 (delta 35), reused 0 (delta 0), pack-reused 196\u001b[K\n",
            "Receiving objects: 100% (261/261), 24.33 MiB | 4.26 MiB/s, done.\n",
            "Resolving deltas: 100% (133/133), done.\n"
          ]
        }
      ],
      "source": [
        "#download git source code\n",
        "!git clone https://github.com/AlirezaShamsoshoara/Fire-Detection-UAV-Aerial-Image-Classification-Segmentation-UnmannedAerialVehicle.git fire-detection"
      ]
    },
    {
      "cell_type": "markdown",
      "source": [
        "### Download Train Dataset\n"
      ],
      "metadata": {
        "id": "sH74dp3EEriZ"
      }
    },
    {
      "cell_type": "code",
      "source": [
        "# Training.zip\n",
        "!gdown 1aOQiTqDVXaHRu1_z3j61LY98uAN7W4nO "
      ],
      "metadata": {
        "colab": {
          "base_uri": "https://localhost:8080/"
        },
        "id": "uqbWlPhaHKkR",
        "outputId": "96863328-02af-4ff3-e866-1324223bebd1"
      },
      "execution_count": null,
      "outputs": [
        {
          "output_type": "stream",
          "name": "stdout",
          "text": [
            "Downloading...\n",
            "From: https://drive.google.com/uc?id=1aZIoK7VjNxn4Kd6S_ApOrKu6HJ35Gwp_\n",
            "To: /content/Test.zip\n",
            "100% 302M/302M [00:04<00:00, 63.6MB/s]\n"
          ]
        }
      ]
    },
    {
      "cell_type": "code",
      "source": [
        "!unzip Training.zip -d fire-detection/frames/"
      ],
      "metadata": {
        "id": "YiONZSaGH9d7"
      },
      "execution_count": null,
      "outputs": []
    },
    {
      "cell_type": "markdown",
      "source": [
        "### Train Model"
      ],
      "metadata": {
        "id": "i1cea1EyHE8a"
      }
    },
    {
      "cell_type": "code",
      "source": [
        "!cd fire-detection/ && python main.py"
      ],
      "metadata": {
        "colab": {
          "base_uri": "https://localhost:8080/"
        },
        "id": "XqR0p014WNUO",
        "outputId": "03a59fe3-24b8-4c06-8436-cd29e03bfcda"
      },
      "execution_count": null,
      "outputs": [
        {
          "output_type": "stream",
          "name": "stdout",
          "text": [
            "/content/Fire-Detection-UAV-Aerial-Image-Classification-Segmentation-UnmannedAerialVehicle\n"
          ]
        }
      ]
    },
    {
      "cell_type": "markdown",
      "source": [
        "### Save Model"
      ],
      "metadata": {
        "id": "Z2HvXL5DKS7r"
      }
    },
    {
      "cell_type": "code",
      "source": [
        "!tar cvzf model_fire.tar.gz Output/Models/model_fire_resnet_weighted_40_no_metric_simple/"
      ],
      "metadata": {
        "id": "6zG_ynm1Jfxn"
      },
      "execution_count": null,
      "outputs": []
    },
    {
      "cell_type": "markdown",
      "source": [
        "### Test Model"
      ],
      "metadata": {
        "id": "3Gw-Nk28HKGU"
      }
    },
    {
      "cell_type": "code",
      "source": [
        "# Download Test.zip\n",
        "!gdown 1aZIoK7VjNxn4Kd6S_ApOrKu6HJ35Gwp_"
      ],
      "metadata": {
        "id": "zSahhCGaJ5dr"
      },
      "execution_count": null,
      "outputs": []
    },
    {
      "cell_type": "code",
      "source": [
        "!unzip Test.zip -d fire-detection/frames/"
      ],
      "metadata": {
        "id": "HhpXBz-dKB_Y"
      },
      "execution_count": null,
      "outputs": []
    },
    {
      "cell_type": "code",
      "source": [
        "#download saved model\n",
        "!gdown 1cHeWnEHu0okeY3GKlTFE0da6LyNbSvxx"
      ],
      "metadata": {
        "colab": {
          "base_uri": "https://localhost:8080/"
        },
        "id": "ldKhDfHrH7Cg",
        "outputId": "769995c5-b405-4263-f5d1-66f96ab67560"
      },
      "execution_count": null,
      "outputs": [
        {
          "output_type": "stream",
          "name": "stdout",
          "text": [
            "Downloading...\n",
            "From: https://drive.google.com/uc?id=1cHeWnEHu0okeY3GKlTFE0da6LyNbSvxx\n",
            "To: /content/model_fire.tar.gz\n",
            "\r  0% 0.00/60.8k [00:00<?, ?B/s]\r100% 60.8k/60.8k [00:00<00:00, 68.8MB/s]\n"
          ]
        }
      ]
    },
    {
      "cell_type": "code",
      "source": [
        "#extract to destination\n",
        "!tar xvzf  model_fire.tar.gz -C fire-detection"
      ],
      "metadata": {
        "colab": {
          "base_uri": "https://localhost:8080/"
        },
        "id": "OBjw_UYUHpax",
        "outputId": "615b40bb-3e08-4587-ee9d-1a25a3ee9ff2"
      },
      "execution_count": null,
      "outputs": [
        {
          "output_type": "stream",
          "name": "stdout",
          "text": [
            "Output/Models/model_fire_resnet_weighted_40_no_metric_simple/\n",
            "Output/Models/model_fire_resnet_weighted_40_no_metric_simple/saved_model.pb\n",
            "Output/Models/model_fire_resnet_weighted_40_no_metric_simple/keras_metadata.pb\n",
            "Output/Models/model_fire_resnet_weighted_40_no_metric_simple/variables/\n",
            "Output/Models/model_fire_resnet_weighted_40_no_metric_simple/variables/variables.index\n",
            "Output/Models/model_fire_resnet_weighted_40_no_metric_simple/variables/variables.data-00000-of-00001\n",
            "Output/Models/model_fire_resnet_weighted_40_no_metric_simple/assets/\n"
          ]
        }
      ]
    },
    {
      "cell_type": "code",
      "source": [
        "# download h5 model\n",
        "!gdown 1alAcYRV878y6D1IDep0bfmdpp_-T1USv"
      ],
      "metadata": {
        "colab": {
          "base_uri": "https://localhost:8080/"
        },
        "id": "JJf_wOWqIh7K",
        "outputId": "c0fd26fa-dcc6-4de1-d17a-f1c47f6d15dd"
      },
      "execution_count": null,
      "outputs": [
        {
          "output_type": "stream",
          "name": "stdout",
          "text": [
            "Downloading...\n",
            "From: https://drive.google.com/uc?id=1alAcYRV878y6D1IDep0bfmdpp_-T1USv\n",
            "To: /content/save_at_20.h5\n",
            "\r  0% 0.00/125k [00:00<?, ?B/s]\r100% 125k/125k [00:00<00:00, 89.1MB/s]\n"
          ]
        }
      ]
    },
    {
      "cell_type": "code",
      "source": [
        "mv save_at_20.h5 fire-detection/Output/Models"
      ],
      "metadata": {
        "id": "MvAhFNNDJPId"
      },
      "execution_count": null,
      "outputs": []
    },
    {
      "cell_type": "code",
      "source": [
        "!cd fire-detection/ && python main.py"
      ],
      "metadata": {
        "colab": {
          "base_uri": "https://localhost:8080/"
        },
        "id": "exwGLYidJpi_",
        "outputId": "0453437b-c662-4dad-a448-fd3aa9d1dad1"
      },
      "execution_count": null,
      "outputs": [
        {
          "output_type": "stream",
          "name": "stdout",
          "text": [
            "2022-07-25 07:14:49.811713: W tensorflow/core/common_runtime/gpu/gpu_bfc_allocator.cc:39] Overriding allow_growth setting because the TF_FORCE_GPU_ALLOW_GROWTH environment variable is set. Original config value was 0.\n",
            "Found 8617 files belonging to 2 classes.\n",
            "270/270 [==============================] - 18s 24ms/step - loss: 0.9301 - accuracy: 0.6181\n",
            "[0.9300718307495117, 0.6180805563926697]\n",
            "270/270 [==============================] - 7s 24ms/step - loss: 0.8714 - accuracy: 0.6166\n",
            "[0.8713714480400085, 0.6165719032287598]\n",
            "loss :  0.8713714480400085\n",
            "accuracy :  0.6165719032287598\n",
            "\n",
            "Traceback (most recent call last):\n",
            "  File \"main.py\", line 82, in <module>\n",
            "    classify()\n",
            "  File \"/content/fire-detection/classification.py\", line 53, in classify\n",
            "    cm = np.array([[results_eval[1], results_eval[4]], [results_eval[2], results_eval[3]]])\n",
            "IndexError: list index out of range\n"
          ]
        }
      ]
    },
    {
      "cell_type": "code",
      "source": [
        "# predict model\n",
        "import tensorflow as tf\n",
        "from tensorflow import keras\n",
        "from tensorflow.keras.models import load_model\n",
        "\n",
        "#model_fire = load_model('fire-detection/Output/Models/model_fire_resnet_weighted_40_no_metric_simple')\n",
        "model_fire = load_model('fire-detection/Output/Models/save_at_20.h5')"
      ],
      "metadata": {
        "id": "s8fzCCu6KOZM"
      },
      "execution_count": null,
      "outputs": []
    },
    {
      "cell_type": "code",
      "source": [
        "img = keras.preprocessing.image.load_img(\n",
        "    \"wf3.jpg\", target_size=(256, 256)\n",
        ")\n",
        "img_array = keras.preprocessing.image.img_to_array(img)\n",
        "img_array = tf.expand_dims(img_array, 0)  # Create batch axis\n",
        "\n",
        "predictions = model_fire.predict(img_array)\n",
        "print(predictions[0])"
      ],
      "metadata": {
        "colab": {
          "base_uri": "https://localhost:8080/"
        },
        "id": "YX4JtgKkRIwk",
        "outputId": "0eb50c69-8212-4a96-e649-8190dd364fa8"
      },
      "execution_count": null,
      "outputs": [
        {
          "output_type": "stream",
          "name": "stdout",
          "text": [
            "[0.]\n"
          ]
        }
      ]
    },
    {
      "cell_type": "code",
      "source": [
        "img = keras.preprocessing.image.load_img(\n",
        "    \"no-fire1.jpg\", target_size=(256, 256)\n",
        ")\n",
        "img_array = keras.preprocessing.image.img_to_array(img)\n",
        "img_array = tf.expand_dims(img_array, 0)  # Create batch axis\n",
        "\n",
        "predictions = model_fire.predict(img_array)\n",
        "print(predictions[0])"
      ],
      "metadata": {
        "colab": {
          "base_uri": "https://localhost:8080/"
        },
        "id": "1IwSGCyJRdfO",
        "outputId": "4ad5e442-3544-45d9-9e12-d03a2bc5670b"
      },
      "execution_count": null,
      "outputs": [
        {
          "output_type": "stream",
          "name": "stdout",
          "text": [
            "[0.0006018]\n"
          ]
        }
      ]
    },
    {
      "cell_type": "code",
      "source": [
        ""
      ],
      "metadata": {
        "id": "dEJ8d3vpRzHs"
      },
      "execution_count": null,
      "outputs": []
    }
  ]
}